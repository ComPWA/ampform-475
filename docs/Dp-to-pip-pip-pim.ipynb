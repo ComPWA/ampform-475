{
 "cells": [
  {
   "cell_type": "markdown",
   "metadata": {},
   "source": [
    "# Symmetrization of $D^+ \\to \\pi^+ \\pi^+ \\pi^-$"
   ]
  },
  {
   "cell_type": "code",
   "execution_count": null,
   "metadata": {},
   "outputs": [],
   "source": [
    "%pip install ampform==0.15.8"
   ]
  },
  {
   "cell_type": "code",
   "execution_count": null,
   "metadata": {
    "jupyter": {
     "source_hidden": true
    },
    "mystnb": {
     "code_prompt_show": "Import Python libraries"
    },
    "tags": [
     "hide-cell"
    ]
   },
   "outputs": [],
   "source": [
    "import ampform\n",
    "import qrules\n",
    "from ampform.dynamics.builder import (\n",
    "    RelativisticBreitWignerBuilder,\n",
    "    create_non_dynamic_with_ff,\n",
    ")\n",
    "from ampform.io import aslatex\n",
    "from IPython.display import Math"
   ]
  },
  {
   "cell_type": "code",
   "execution_count": null,
   "metadata": {},
   "outputs": [],
   "source": [
    "reaction = qrules.generate_transitions(\n",
    "    initial_state=\"D+\",\n",
    "    final_state=[\"pi+\", \"pi+\", \"pi-\"],\n",
    "    allowed_intermediate_particles=[\"rho(770)0\"],\n",
    "    formalism=\"helicity\",\n",
    ")\n",
    "resonances = reaction.get_intermediate_particles()\n",
    "assert resonances.names == [\"rho(770)0\"]\n",
    "resonances"
   ]
  },
  {
   "cell_type": "code",
   "execution_count": null,
   "metadata": {},
   "outputs": [],
   "source": [
    "bw_builder = RelativisticBreitWignerBuilder(\n",
    "    energy_dependent_width=True,\n",
    "    form_factor=True,\n",
    ")\n",
    "model_builder = ampform.HelicityAmplitudeBuilder(reaction)\n",
    "model_builder.dynamics.assign(\"D+\", create_non_dynamic_with_ff)\n",
    "for name in reaction.get_intermediate_particles().names:\n",
    "    model_builder.dynamics.assign(name, bw_builder)\n",
    "model = model_builder.formulate()\n",
    "model.intensity\n",
    "Math(aslatex(model.amplitudes, terms_per_line=1))"
   ]
  }
 ],
 "metadata": {
  "colab": {
   "toc_visible": true
  },
  "kernelspec": {
   "display_name": "Python 3 (ipykernel)",
   "language": "python",
   "name": "python3"
  },
  "language_info": {
   "codemirror_mode": {
    "name": "ipython",
    "version": 3
   },
   "file_extension": ".py",
   "mimetype": "text/x-python",
   "name": "python",
   "nbconvert_exporter": "python",
   "pygments_lexer": "ipython3",
   "version": "3.12.11"
  }
 },
 "nbformat": 4,
 "nbformat_minor": 4
}
